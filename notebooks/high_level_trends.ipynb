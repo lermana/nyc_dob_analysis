{
 "cells": [
  {
   "cell_type": "code",
   "execution_count": 1,
   "metadata": {},
   "outputs": [],
   "source": [
    "import os\n",
    "import numpy as np\n",
    "import pandas as pd\n",
    "\n",
    "# getting data\n",
    "from pydob.exploratory import get_high_level_trends_data, savefig, permits_now_year, permits_now_year_month\n",
    "\n",
    "# plotting \n",
    "import matplotlib.pyplot as plt\n",
    "import matplotlib.ticker as ticker\n",
    "from matplotlib import font_manager as fm\n",
    "\n",
    "from pydob.settings import nt_style, nt_blue, nt_black\n",
    "\n",
    "# additional analysis\n",
    "from indoorplants.analysis import features"
   ]
  },
  {
   "cell_type": "code",
   "execution_count": 2,
   "metadata": {},
   "outputs": [],
   "source": [
    "%matplotlib inline\n",
    "plt.style.use(nt_style)"
   ]
  },
  {
   "cell_type": "code",
   "execution_count": 3,
   "metadata": {},
   "outputs": [],
   "source": [
    "# path_to_my_font = \"/usr/share/fonts/truetype/HeliosAntique/HeliosAntique-Regular.ttf\""
   ]
  },
  {
   "cell_type": "code",
   "execution_count": 4,
   "metadata": {},
   "outputs": [],
   "source": [
    "# prop = fm.FontProperties(fname=path_to_my_font)"
   ]
  },
  {
   "cell_type": "markdown",
   "metadata": {},
   "source": [
    "## Preparing tables for analysis\n",
    "### Get `complaints`, `permits`, `violations_ecb`, and `applications` yearly and monthly counts table \n"
   ]
  },
  {
   "cell_type": "code",
   "execution_count": 5,
   "metadata": {},
   "outputs": [
    {
     "name": "stdout",
     "output_type": "stream",
     "text": [
      "Reading streeteasy_sales from database.\n",
      "Reading streeteasy_rent from database.\n"
     ]
    }
   ],
   "source": [
    "tables_dict  =  get_high_level_trends_data(begin_year=2000, end_year=2019)"
   ]
  },
  {
   "cell_type": "code",
   "execution_count": 6,
   "metadata": {
    "scrolled": true
   },
   "outputs": [
    {
     "data": {
      "text/plain": [
       "dict_keys(['violations_ecb_year', 'complaints_year', 'permits_now_year', 'permits_year', 'applications_year', 'violations_ecb_year_month', 'complaints_year_month', 'permits_now_year_month', 'permits_year_month', 'applications_year_month', 'streeteasy_sales', 'streeteasy_rent'])"
      ]
     },
     "execution_count": 6,
     "metadata": {},
     "output_type": "execute_result"
    }
   ],
   "source": [
    "tables_dict.keys()"
   ]
  },
  {
   "cell_type": "code",
   "execution_count": 7,
   "metadata": {},
   "outputs": [],
   "source": [
    "applications_year_month = tables_dict['applications_year_month']\n",
    "permits_year_month = tables_dict['permits_year_month']\n",
    "complaints_year_month = tables_dict['complaints_year_month']\n",
    "violations_ecb_year_month = tables_dict['violations_ecb_year_month']"
   ]
  },
  {
   "cell_type": "code",
   "execution_count": 8,
   "metadata": {},
   "outputs": [],
   "source": [
    "applications_year = tables_dict['applications_year']\n",
    "permits_year = tables_dict['permits_year']\n",
    "complaints_year = tables_dict['complaints_year']\n",
    "violations_ecb_year = tables_dict['violations_ecb_year']"
   ]
  },
  {
   "cell_type": "markdown",
   "metadata": {},
   "source": [
    "### Get `permits_now` yearly "
   ]
  },
  {
   "cell_type": "code",
   "execution_count": 9,
   "metadata": {},
   "outputs": [],
   "source": [
    "permits_now_year = permits_now_year()"
   ]
  },
  {
   "cell_type": "code",
   "execution_count": 10,
   "metadata": {},
   "outputs": [],
   "source": [
    "permits_now_year.columns = ['permits_now']"
   ]
  },
  {
   "cell_type": "markdown",
   "metadata": {},
   "source": [
    "### Get `permits_now` year_month"
   ]
  },
  {
   "cell_type": "code",
   "execution_count": 11,
   "metadata": {},
   "outputs": [],
   "source": [
    "permits_now_year_month = permits_now_year_month()"
   ]
  },
  {
   "cell_type": "markdown",
   "metadata": {},
   "source": [
    "# 1.0 Overview <a class=\"anchor\" id=\"step1\"></a>\n",
    "\n",
    "## 1.1 Normalized and Counts per year <a class=\"anchor\" id=\"step1_1\"></a>"
   ]
  },
  {
   "cell_type": "markdown",
   "metadata": {},
   "source": [
    "**Notes:**\n",
    "- `table_to_plot`: yearly counts with four features (`applications`, `permits`, `complaints`, `violations`)\n",
    "- Analysis period is from 2000 to 2018"
   ]
  },
  {
   "cell_type": "code",
   "execution_count": 12,
   "metadata": {},
   "outputs": [],
   "source": [
    "table_to_plot = applications_year.join(\n",
    "                    permits_year).join(\n",
    "                permits_now_year).join(\n",
    "                 complaints_year).join(\n",
    "             violations_ecb_year)"
   ]
  },
  {
   "cell_type": "code",
   "execution_count": 13,
   "metadata": {},
   "outputs": [],
   "source": [
    "table_to_plot.columns = ['applications', 'permits', \"permits_now\", \"complaints\", \"violations\",]"
   ]
  },
  {
   "cell_type": "markdown",
   "metadata": {},
   "source": [
    "**Notes:**\n",
    "- Since we are limit to DOB NOW job applications data set (no `Date` related features), we assume that permits issued in total is 79.081474% of applications applied from 2017 to 2019. \n",
    "- More explaination can be find at applications_and_permits.ipynb."
   ]
  },
  {
   "cell_type": "code",
   "execution_count": 14,
   "metadata": {},
   "outputs": [],
   "source": [
    "permit_applic_rate_assum = table_to_plot.loc[2016].permits / table_to_plot.loc[2016].applications"
   ]
  },
  {
   "cell_type": "code",
   "execution_count": 15,
   "metadata": {},
   "outputs": [],
   "source": [
    "table_to_plot.columns = ['applications', 'permits', \"permits_now\", \"complaints\", \"violations\",]"
   ]
  },
  {
   "cell_type": "code",
   "execution_count": 16,
   "metadata": {},
   "outputs": [],
   "source": [
    "table_to_plot.permits_now = table_to_plot.permits_now.fillna(0)"
   ]
  },
  {
   "cell_type": "code",
   "execution_count": 17,
   "metadata": {},
   "outputs": [],
   "source": [
    "table_to_plot['permits_total'] = table_to_plot.permits+table_to_plot.permits_now"
   ]
  },
  {
   "cell_type": "code",
   "execution_count": 18,
   "metadata": {},
   "outputs": [],
   "source": [
    "table_to_plot.loc[2017,'applications'] = table_to_plot.loc[2017,'permits_total']/permit_applic_rate_assum"
   ]
  },
  {
   "cell_type": "code",
   "execution_count": 19,
   "metadata": {},
   "outputs": [],
   "source": [
    "table_to_plot.loc[2018,'applications'] = table_to_plot.loc[2018,'permits_total']/permit_applic_rate_assum"
   ]
  },
  {
   "cell_type": "code",
   "execution_count": 20,
   "metadata": {},
   "outputs": [],
   "source": [
    "table_to_plot.loc[2019,'applications'] = table_to_plot.loc[2019,'permits_total']/permit_applic_rate_assum"
   ]
  },
  {
   "cell_type": "code",
   "execution_count": 21,
   "metadata": {},
   "outputs": [],
   "source": [
    "table_to_plot.drop(columns=['permits_now','permits'],inplace=True)"
   ]
  },
  {
   "cell_type": "code",
   "execution_count": 22,
   "metadata": {},
   "outputs": [],
   "source": [
    "table_to_plot.index = table_to_plot.index.astype(int)"
   ]
  },
  {
   "cell_type": "code",
   "execution_count": 23,
   "metadata": {
    "scrolled": true
   },
   "outputs": [],
   "source": [
    "table_to_plot =table_to_plot.loc[2000:2019]"
   ]
  },
  {
   "cell_type": "code",
   "execution_count": 24,
   "metadata": {},
   "outputs": [
    {
     "data": {
      "text/html": [
       "<div>\n",
       "<style scoped>\n",
       "    .dataframe tbody tr th:only-of-type {\n",
       "        vertical-align: middle;\n",
       "    }\n",
       "\n",
       "    .dataframe tbody tr th {\n",
       "        vertical-align: top;\n",
       "    }\n",
       "\n",
       "    .dataframe thead th {\n",
       "        text-align: right;\n",
       "    }\n",
       "</style>\n",
       "<table border=\"1\" class=\"dataframe\">\n",
       "  <thead>\n",
       "    <tr style=\"text-align: right;\">\n",
       "      <th></th>\n",
       "      <th>applications</th>\n",
       "      <th>complaints</th>\n",
       "      <th>violations</th>\n",
       "      <th>permits_total</th>\n",
       "    </tr>\n",
       "    <tr>\n",
       "      <th>pre_filing_date_year</th>\n",
       "      <th></th>\n",
       "      <th></th>\n",
       "      <th></th>\n",
       "      <th></th>\n",
       "    </tr>\n",
       "  </thead>\n",
       "  <tbody>\n",
       "    <tr>\n",
       "      <th>2000</th>\n",
       "      <td>67735.000000</td>\n",
       "      <td>43520</td>\n",
       "      <td>41030</td>\n",
       "      <td>101496.0</td>\n",
       "    </tr>\n",
       "    <tr>\n",
       "      <th>2001</th>\n",
       "      <td>67320.000000</td>\n",
       "      <td>45124</td>\n",
       "      <td>42059</td>\n",
       "      <td>105728.0</td>\n",
       "    </tr>\n",
       "    <tr>\n",
       "      <th>2002</th>\n",
       "      <td>70045.000000</td>\n",
       "      <td>51991</td>\n",
       "      <td>40566</td>\n",
       "      <td>111931.0</td>\n",
       "    </tr>\n",
       "    <tr>\n",
       "      <th>2003</th>\n",
       "      <td>72817.000000</td>\n",
       "      <td>62542</td>\n",
       "      <td>45041</td>\n",
       "      <td>122595.0</td>\n",
       "    </tr>\n",
       "    <tr>\n",
       "      <th>2004</th>\n",
       "      <td>80833.000000</td>\n",
       "      <td>78212</td>\n",
       "      <td>44962</td>\n",
       "      <td>137618.0</td>\n",
       "    </tr>\n",
       "    <tr>\n",
       "      <th>2005</th>\n",
       "      <td>86264.000000</td>\n",
       "      <td>108873</td>\n",
       "      <td>49196</td>\n",
       "      <td>150087.0</td>\n",
       "    </tr>\n",
       "    <tr>\n",
       "      <th>2006</th>\n",
       "      <td>86896.000000</td>\n",
       "      <td>112953</td>\n",
       "      <td>51687</td>\n",
       "      <td>155861.0</td>\n",
       "    </tr>\n",
       "    <tr>\n",
       "      <th>2007</th>\n",
       "      <td>90201.000000</td>\n",
       "      <td>129247</td>\n",
       "      <td>58225</td>\n",
       "      <td>158250.0</td>\n",
       "    </tr>\n",
       "    <tr>\n",
       "      <th>2008</th>\n",
       "      <td>84548.000000</td>\n",
       "      <td>142991</td>\n",
       "      <td>76940</td>\n",
       "      <td>150370.0</td>\n",
       "    </tr>\n",
       "    <tr>\n",
       "      <th>2009</th>\n",
       "      <td>70726.000000</td>\n",
       "      <td>127278</td>\n",
       "      <td>78540</td>\n",
       "      <td>135770.0</td>\n",
       "    </tr>\n",
       "    <tr>\n",
       "      <th>2010</th>\n",
       "      <td>74889.000000</td>\n",
       "      <td>113516</td>\n",
       "      <td>69054</td>\n",
       "      <td>136243.0</td>\n",
       "    </tr>\n",
       "    <tr>\n",
       "      <th>2011</th>\n",
       "      <td>77847.000000</td>\n",
       "      <td>103800</td>\n",
       "      <td>57781</td>\n",
       "      <td>143943.0</td>\n",
       "    </tr>\n",
       "    <tr>\n",
       "      <th>2012</th>\n",
       "      <td>81843.000000</td>\n",
       "      <td>100377</td>\n",
       "      <td>47173</td>\n",
       "      <td>148534.0</td>\n",
       "    </tr>\n",
       "    <tr>\n",
       "      <th>2013</th>\n",
       "      <td>93195.000000</td>\n",
       "      <td>95243</td>\n",
       "      <td>45773</td>\n",
       "      <td>161322.0</td>\n",
       "    </tr>\n",
       "    <tr>\n",
       "      <th>2014</th>\n",
       "      <td>107943.000000</td>\n",
       "      <td>101680</td>\n",
       "      <td>52095</td>\n",
       "      <td>170787.0</td>\n",
       "    </tr>\n",
       "    <tr>\n",
       "      <th>2015</th>\n",
       "      <td>107544.000000</td>\n",
       "      <td>101984</td>\n",
       "      <td>52582</td>\n",
       "      <td>182714.0</td>\n",
       "    </tr>\n",
       "    <tr>\n",
       "      <th>2016</th>\n",
       "      <td>109527.000000</td>\n",
       "      <td>114679</td>\n",
       "      <td>59838</td>\n",
       "      <td>191006.0</td>\n",
       "    </tr>\n",
       "    <tr>\n",
       "      <th>2017</th>\n",
       "      <td>113287.657525</td>\n",
       "      <td>126587</td>\n",
       "      <td>79105</td>\n",
       "      <td>197556.0</td>\n",
       "    </tr>\n",
       "    <tr>\n",
       "      <th>2018</th>\n",
       "      <td>112290.435287</td>\n",
       "      <td>129562</td>\n",
       "      <td>88482</td>\n",
       "      <td>195817.0</td>\n",
       "    </tr>\n",
       "    <tr>\n",
       "      <th>2019</th>\n",
       "      <td>110330.397559</td>\n",
       "      <td>142880</td>\n",
       "      <td>92800</td>\n",
       "      <td>192399.0</td>\n",
       "    </tr>\n",
       "  </tbody>\n",
       "</table>\n",
       "</div>"
      ],
      "text/plain": [
       "                       applications  complaints  violations  permits_total\n",
       "pre_filing_date_year                                                      \n",
       "2000                   67735.000000       43520       41030       101496.0\n",
       "2001                   67320.000000       45124       42059       105728.0\n",
       "2002                   70045.000000       51991       40566       111931.0\n",
       "2003                   72817.000000       62542       45041       122595.0\n",
       "2004                   80833.000000       78212       44962       137618.0\n",
       "2005                   86264.000000      108873       49196       150087.0\n",
       "2006                   86896.000000      112953       51687       155861.0\n",
       "2007                   90201.000000      129247       58225       158250.0\n",
       "2008                   84548.000000      142991       76940       150370.0\n",
       "2009                   70726.000000      127278       78540       135770.0\n",
       "2010                   74889.000000      113516       69054       136243.0\n",
       "2011                   77847.000000      103800       57781       143943.0\n",
       "2012                   81843.000000      100377       47173       148534.0\n",
       "2013                   93195.000000       95243       45773       161322.0\n",
       "2014                  107943.000000      101680       52095       170787.0\n",
       "2015                  107544.000000      101984       52582       182714.0\n",
       "2016                  109527.000000      114679       59838       191006.0\n",
       "2017                  113287.657525      126587       79105       197556.0\n",
       "2018                  112290.435287      129562       88482       195817.0\n",
       "2019                  110330.397559      142880       92800       192399.0"
      ]
     },
     "execution_count": 24,
     "metadata": {},
     "output_type": "execute_result"
    }
   ],
   "source": [
    "table_to_plot"
   ]
  },
  {
   "cell_type": "markdown",
   "metadata": {},
   "source": [
    "### Plotting"
   ]
  },
  {
   "cell_type": "code",
   "execution_count": 25,
   "metadata": {},
   "outputs": [],
   "source": [
    "ordered_cols = pd.Categorical(table_to_plot.columns,\n",
    "                              categories=['applications', 'permits_total', \"complaints\", \"violations\"],\n",
    "                              ordered=True\n",
    "                             ).sort_values()"
   ]
  },
  {
   "cell_type": "code",
   "execution_count": 26,
   "metadata": {},
   "outputs": [
    {
     "data": {
      "image/png": "[encoded data removed]",
      "text/plain": [
       "<Figure size 1200x750 with 1 Axes>"
      ]
     },
     "metadata": {
      "needs_background": "light"
     },
     "output_type": "display_data"
    }
   ],
   "source": [
    "fig, ax = plt.subplots()\n",
    "\n",
    "table_to_plot_normed = table_to_plot / table_to_plot.iloc[0]\n",
    "table_to_plot_normed = (table_to_plot_normed - 1) * 100\n",
    "labels = ['Applications', 'Permits', 'Complaints', 'Violations']\n",
    "\n",
    "ax = table_to_plot_normed[ordered_cols[0]].loc[:2016].plot(alpha = .25,\n",
    "                                                           label = labels[0], \n",
    "                                                           color = nt_blue)\n",
    "ax = table_to_plot_normed[ordered_cols[0]].loc[2016:].plot(alpha = .25,\n",
    "                                                           label = '_',\n",
    "                                                           color = nt_blue, \n",
    "                                                           linestyle = '--')\n",
    "\n",
    "for i, c in enumerate(ordered_cols[1:], 1):\n",
    "    ax = table_to_plot_normed[c].plot(ax=ax, color=nt_blue, alpha = .25 * (i + 1), label=labels[i])\n",
    "    \n",
    "    \n",
    "    \n",
    "l = ax.legend(loc='center left', \n",
    "           bbox_to_anchor=(0.0775, -0.125),\n",
    "           fancybox=True,\n",
    "           shadow=False, \n",
    "           ncol=4)\n",
    "\n",
    "xlabs = ax.xaxis.set_major_formatter(ticker.FormatStrFormatter('%d'))\n",
    "ylabs = ax.yaxis.set_major_formatter(ticker.FormatStrFormatter('%s%%'))\n",
    "plt.title(\"Growth in Yearly Figures: Applications, Permits, Complaints, and Violations\")\n",
    "ylab = ax.set_ylabel(\"Since Year 2000 (%)\")\n",
    "xlab = ax.set_xlabel(None)\n",
    "g = plt.grid(axis=\"y\")\n",
    "\n",
    "ax.spines[\"top\"].set_visible(True)\n",
    "ax.spines[\"right\"].set_visible(True)\n",
    "\n",
    "savefig(\"percent_change_all.png\", fig, bottom=.125)"
   ]
  },
  {
   "cell_type": "code",
   "execution_count": 27,
   "metadata": {},
   "outputs": [
    {
     "data": {
      "text/html": [
       "<div>\n",
       "<style scoped>\n",
       "    .dataframe tbody tr th:only-of-type {\n",
       "        vertical-align: middle;\n",
       "    }\n",
       "\n",
       "    .dataframe tbody tr th {\n",
       "        vertical-align: top;\n",
       "    }\n",
       "\n",
       "    .dataframe thead th {\n",
       "        text-align: right;\n",
       "    }\n",
       "</style>\n",
       "<table border=\"1\" class=\"dataframe\">\n",
       "  <thead>\n",
       "    <tr style=\"text-align: right;\">\n",
       "      <th></th>\n",
       "      <th>applications</th>\n",
       "      <th>complaints</th>\n",
       "      <th>violations</th>\n",
       "      <th>permits_total</th>\n",
       "    </tr>\n",
       "    <tr>\n",
       "      <th>pre_filing_date_year</th>\n",
       "      <th></th>\n",
       "      <th></th>\n",
       "      <th></th>\n",
       "      <th></th>\n",
       "    </tr>\n",
       "  </thead>\n",
       "  <tbody>\n",
       "    <tr>\n",
       "      <th>2000</th>\n",
       "      <td>67735.000000</td>\n",
       "      <td>43520</td>\n",
       "      <td>41030</td>\n",
       "      <td>101496.0</td>\n",
       "    </tr>\n",
       "    <tr>\n",
       "      <th>2001</th>\n",
       "      <td>67320.000000</td>\n",
       "      <td>45124</td>\n",
       "      <td>42059</td>\n",
       "      <td>105728.0</td>\n",
       "    </tr>\n",
       "    <tr>\n",
       "      <th>2002</th>\n",
       "      <td>70045.000000</td>\n",
       "      <td>51991</td>\n",
       "      <td>40566</td>\n",
       "      <td>111931.0</td>\n",
       "    </tr>\n",
       "    <tr>\n",
       "      <th>2003</th>\n",
       "      <td>72817.000000</td>\n",
       "      <td>62542</td>\n",
       "      <td>45041</td>\n",
       "      <td>122595.0</td>\n",
       "    </tr>\n",
       "    <tr>\n",
       "      <th>2004</th>\n",
       "      <td>80833.000000</td>\n",
       "      <td>78212</td>\n",
       "      <td>44962</td>\n",
       "      <td>137618.0</td>\n",
       "    </tr>\n",
       "    <tr>\n",
       "      <th>2005</th>\n",
       "      <td>86264.000000</td>\n",
       "      <td>108873</td>\n",
       "      <td>49196</td>\n",
       "      <td>150087.0</td>\n",
       "    </tr>\n",
       "    <tr>\n",
       "      <th>2006</th>\n",
       "      <td>86896.000000</td>\n",
       "      <td>112953</td>\n",
       "      <td>51687</td>\n",
       "      <td>155861.0</td>\n",
       "    </tr>\n",
       "    <tr>\n",
       "      <th>2007</th>\n",
       "      <td>90201.000000</td>\n",
       "      <td>129247</td>\n",
       "      <td>58225</td>\n",
       "      <td>158250.0</td>\n",
       "    </tr>\n",
       "    <tr>\n",
       "      <th>2008</th>\n",
       "      <td>84548.000000</td>\n",
       "      <td>142991</td>\n",
       "      <td>76940</td>\n",
       "      <td>150370.0</td>\n",
       "    </tr>\n",
       "    <tr>\n",
       "      <th>2009</th>\n",
       "      <td>70726.000000</td>\n",
       "      <td>127278</td>\n",
       "      <td>78540</td>\n",
       "      <td>135770.0</td>\n",
       "    </tr>\n",
       "    <tr>\n",
       "      <th>2010</th>\n",
       "      <td>74889.000000</td>\n",
       "      <td>113516</td>\n",
       "      <td>69054</td>\n",
       "      <td>136243.0</td>\n",
       "    </tr>\n",
       "    <tr>\n",
       "      <th>2011</th>\n",
       "      <td>77847.000000</td>\n",
       "      <td>103800</td>\n",
       "      <td>57781</td>\n",
       "      <td>143943.0</td>\n",
       "    </tr>\n",
       "    <tr>\n",
       "      <th>2012</th>\n",
       "      <td>81843.000000</td>\n",
       "      <td>100377</td>\n",
       "      <td>47173</td>\n",
       "      <td>148534.0</td>\n",
       "    </tr>\n",
       "    <tr>\n",
       "      <th>2013</th>\n",
       "      <td>93195.000000</td>\n",
       "      <td>95243</td>\n",
       "      <td>45773</td>\n",
       "      <td>161322.0</td>\n",
       "    </tr>\n",
       "    <tr>\n",
       "      <th>2014</th>\n",
       "      <td>107943.000000</td>\n",
       "      <td>101680</td>\n",
       "      <td>52095</td>\n",
       "      <td>170787.0</td>\n",
       "    </tr>\n",
       "    <tr>\n",
       "      <th>2015</th>\n",
       "      <td>107544.000000</td>\n",
       "      <td>101984</td>\n",
       "      <td>52582</td>\n",
       "      <td>182714.0</td>\n",
       "    </tr>\n",
       "    <tr>\n",
       "      <th>2016</th>\n",
       "      <td>109527.000000</td>\n",
       "      <td>114679</td>\n",
       "      <td>59838</td>\n",
       "      <td>191006.0</td>\n",
       "    </tr>\n",
       "    <tr>\n",
       "      <th>2017</th>\n",
       "      <td>113287.657525</td>\n",
       "      <td>126587</td>\n",
       "      <td>79105</td>\n",
       "      <td>197556.0</td>\n",
       "    </tr>\n",
       "    <tr>\n",
       "      <th>2018</th>\n",
       "      <td>112290.435287</td>\n",
       "      <td>129562</td>\n",
       "      <td>88482</td>\n",
       "      <td>195817.0</td>\n",
       "    </tr>\n",
       "    <tr>\n",
       "      <th>2019</th>\n",
       "      <td>110330.397559</td>\n",
       "      <td>142880</td>\n",
       "      <td>92800</td>\n",
       "      <td>192399.0</td>\n",
       "    </tr>\n",
       "  </tbody>\n",
       "</table>\n",
       "</div>"
      ],
      "text/plain": [
       "                       applications  complaints  violations  permits_total\n",
       "pre_filing_date_year                                                      \n",
       "2000                   67735.000000       43520       41030       101496.0\n",
       "2001                   67320.000000       45124       42059       105728.0\n",
       "2002                   70045.000000       51991       40566       111931.0\n",
       "2003                   72817.000000       62542       45041       122595.0\n",
       "2004                   80833.000000       78212       44962       137618.0\n",
       "2005                   86264.000000      108873       49196       150087.0\n",
       "2006                   86896.000000      112953       51687       155861.0\n",
       "2007                   90201.000000      129247       58225       158250.0\n",
       "2008                   84548.000000      142991       76940       150370.0\n",
       "2009                   70726.000000      127278       78540       135770.0\n",
       "2010                   74889.000000      113516       69054       136243.0\n",
       "2011                   77847.000000      103800       57781       143943.0\n",
       "2012                   81843.000000      100377       47173       148534.0\n",
       "2013                   93195.000000       95243       45773       161322.0\n",
       "2014                  107943.000000      101680       52095       170787.0\n",
       "2015                  107544.000000      101984       52582       182714.0\n",
       "2016                  109527.000000      114679       59838       191006.0\n",
       "2017                  113287.657525      126587       79105       197556.0\n",
       "2018                  112290.435287      129562       88482       195817.0\n",
       "2019                  110330.397559      142880       92800       192399.0"
      ]
     },
     "execution_count": 27,
     "metadata": {},
     "output_type": "execute_result"
    }
   ],
   "source": [
    "table_to_plot"
   ]
  },
  {
   "cell_type": "code",
   "execution_count": 28,
   "metadata": {
    "scrolled": true
   },
   "outputs": [
    {
     "data": {
      "text/plain": [
       "applications     113287.657525\n",
       "complaints       142991.000000\n",
       "violations        92800.000000\n",
       "permits_total    197556.000000\n",
       "dtype: float64"
      ]
     },
     "execution_count": 28,
     "metadata": {},
     "output_type": "execute_result"
    }
   ],
   "source": [
    "table_to_plot.max()"
   ]
  },
  {
   "cell_type": "code",
   "execution_count": 29,
   "metadata": {},
   "outputs": [
    {
     "data": {
      "text/plain": [
       "applications     2017\n",
       "complaints       2008\n",
       "violations       2019\n",
       "permits_total    2017\n",
       "dtype: int64"
      ]
     },
     "execution_count": 29,
     "metadata": {},
     "output_type": "execute_result"
    }
   ],
   "source": [
    "table_to_plot.idxmax()"
   ]
  },
  {
   "cell_type": "markdown",
   "metadata": {},
   "source": [
    "### Ratios\n",
    "\n",
    "- this actually shows up in the `Complaints & Violations` section"
   ]
  },
  {
   "cell_type": "code",
   "execution_count": 30,
   "metadata": {},
   "outputs": [],
   "source": [
    "complaints_to_permits = table_to_plot.complaints / table_to_plot.permits_total"
   ]
  },
  {
   "cell_type": "code",
   "execution_count": 31,
   "metadata": {},
   "outputs": [],
   "source": [
    "complaints_to_permits = complaints_to_permits.rename(\"complaints_to_permits\")"
   ]
  },
  {
   "cell_type": "code",
   "execution_count": 32,
   "metadata": {},
   "outputs": [],
   "source": [
    "violations_to_permits = table_to_plot.violations / table_to_plot.permits_total"
   ]
  },
  {
   "cell_type": "code",
   "execution_count": 33,
   "metadata": {},
   "outputs": [],
   "source": [
    "violations_to_permits = violations_to_permits.rename(\"violations_to_permits\")"
   ]
  },
  {
   "cell_type": "code",
   "execution_count": 34,
   "metadata": {},
   "outputs": [],
   "source": [
    "to_plot_ratios = complaints_to_permits.to_frame().join(violations_to_permits)"
   ]
  },
  {
   "cell_type": "code",
   "execution_count": 35,
   "metadata": {},
   "outputs": [
    {
     "data": {
      "image/png": "[encoded data removed]",
      "text/plain": [
       "<Figure size 1200x750 with 1 Axes>"
      ]
     },
     "metadata": {
      "needs_background": "light"
     },
     "output_type": "display_data"
    }
   ],
   "source": [
    "fig, ax = plt.subplots()\n",
    "\n",
    "labels = ['Complaints to Permits', \"Violations to Permits\"]\n",
    "\n",
    "to_plot_ratios\n",
    "\n",
    "ax = to_plot_ratios[\"complaints_to_permits\"].plot(alpha=.75, label=labels[0], color=nt_blue)\n",
    "ax = to_plot_ratios[\"violations_to_permits\"].plot(alpha=1, label=labels[1], color=nt_blue)\n",
    "\n",
    "l = ax.legend(loc='center left', \n",
    "           bbox_to_anchor=(0.145, -0.125),\n",
    "           fancybox=True,\n",
    "           shadow=False, \n",
    "           ncol=2)\n",
    "\n",
    "xlabs = ax.xaxis.set_major_formatter(ticker.FormatStrFormatter('%d'))\n",
    "xlab = ax.set_xlabel(None)\n",
    "\n",
    "ylim = ax.set_ylim([0, 1])\n",
    "ylabs = ax.yaxis.set_major_formatter(ticker.PercentFormatter(xmax=1, decimals=0))\n",
    "\n",
    "plt.title(\"Yearly Ratios, Over Time: Complaints, Violations; to Permits\")\n",
    "\n",
    "g = plt.grid(axis=\"y\")\n",
    "\n",
    "ax.spines[\"top\"].set_visible(True)\n",
    "ax.spines[\"right\"].set_visible(True)\n",
    "\n",
    "savefig(\"ratios.png\", fig, bottom=.125)"
   ]
  },
  {
   "cell_type": "code",
   "execution_count": 36,
   "metadata": {},
   "outputs": [
    {
     "data": {
      "text/html": [
       "<div>\n",
       "<style scoped>\n",
       "    .dataframe tbody tr th:only-of-type {\n",
       "        vertical-align: middle;\n",
       "    }\n",
       "\n",
       "    .dataframe tbody tr th {\n",
       "        vertical-align: top;\n",
       "    }\n",
       "\n",
       "    .dataframe thead th {\n",
       "        text-align: right;\n",
       "    }\n",
       "</style>\n",
       "<table border=\"1\" class=\"dataframe\">\n",
       "  <thead>\n",
       "    <tr style=\"text-align: right;\">\n",
       "      <th></th>\n",
       "      <th>complaints_to_permits</th>\n",
       "      <th>violations_to_permits</th>\n",
       "    </tr>\n",
       "    <tr>\n",
       "      <th>pre_filing_date_year</th>\n",
       "      <th></th>\n",
       "      <th></th>\n",
       "    </tr>\n",
       "  </thead>\n",
       "  <tbody>\n",
       "    <tr>\n",
       "      <th>2000</th>\n",
       "      <td>0.428785</td>\n",
       "      <td>0.404252</td>\n",
       "    </tr>\n",
       "    <tr>\n",
       "      <th>2001</th>\n",
       "      <td>0.426793</td>\n",
       "      <td>0.397804</td>\n",
       "    </tr>\n",
       "    <tr>\n",
       "      <th>2002</th>\n",
       "      <td>0.464492</td>\n",
       "      <td>0.362420</td>\n",
       "    </tr>\n",
       "    <tr>\n",
       "      <th>2003</th>\n",
       "      <td>0.510151</td>\n",
       "      <td>0.367397</td>\n",
       "    </tr>\n",
       "    <tr>\n",
       "      <th>2004</th>\n",
       "      <td>0.568327</td>\n",
       "      <td>0.326716</td>\n",
       "    </tr>\n",
       "    <tr>\n",
       "      <th>2005</th>\n",
       "      <td>0.725399</td>\n",
       "      <td>0.327783</td>\n",
       "    </tr>\n",
       "    <tr>\n",
       "      <th>2006</th>\n",
       "      <td>0.724703</td>\n",
       "      <td>0.331622</td>\n",
       "    </tr>\n",
       "    <tr>\n",
       "      <th>2007</th>\n",
       "      <td>0.816727</td>\n",
       "      <td>0.367930</td>\n",
       "    </tr>\n",
       "    <tr>\n",
       "      <th>2008</th>\n",
       "      <td>0.950928</td>\n",
       "      <td>0.511671</td>\n",
       "    </tr>\n",
       "    <tr>\n",
       "      <th>2009</th>\n",
       "      <td>0.937453</td>\n",
       "      <td>0.578478</td>\n",
       "    </tr>\n",
       "    <tr>\n",
       "      <th>2010</th>\n",
       "      <td>0.833188</td>\n",
       "      <td>0.506844</td>\n",
       "    </tr>\n",
       "    <tr>\n",
       "      <th>2011</th>\n",
       "      <td>0.721119</td>\n",
       "      <td>0.401416</td>\n",
       "    </tr>\n",
       "    <tr>\n",
       "      <th>2012</th>\n",
       "      <td>0.675785</td>\n",
       "      <td>0.317591</td>\n",
       "    </tr>\n",
       "    <tr>\n",
       "      <th>2013</th>\n",
       "      <td>0.590391</td>\n",
       "      <td>0.283737</td>\n",
       "    </tr>\n",
       "    <tr>\n",
       "      <th>2014</th>\n",
       "      <td>0.595361</td>\n",
       "      <td>0.305029</td>\n",
       "    </tr>\n",
       "    <tr>\n",
       "      <th>2015</th>\n",
       "      <td>0.558162</td>\n",
       "      <td>0.287783</td>\n",
       "    </tr>\n",
       "    <tr>\n",
       "      <th>2016</th>\n",
       "      <td>0.600395</td>\n",
       "      <td>0.313278</td>\n",
       "    </tr>\n",
       "    <tr>\n",
       "      <th>2017</th>\n",
       "      <td>0.640765</td>\n",
       "      <td>0.400418</td>\n",
       "    </tr>\n",
       "    <tr>\n",
       "      <th>2018</th>\n",
       "      <td>0.661648</td>\n",
       "      <td>0.451861</td>\n",
       "    </tr>\n",
       "    <tr>\n",
       "      <th>2019</th>\n",
       "      <td>0.742623</td>\n",
       "      <td>0.482331</td>\n",
       "    </tr>\n",
       "  </tbody>\n",
       "</table>\n",
       "</div>"
      ],
      "text/plain": [
       "                      complaints_to_permits  violations_to_permits\n",
       "pre_filing_date_year                                              \n",
       "2000                               0.428785               0.404252\n",
       "2001                               0.426793               0.397804\n",
       "2002                               0.464492               0.362420\n",
       "2003                               0.510151               0.367397\n",
       "2004                               0.568327               0.326716\n",
       "2005                               0.725399               0.327783\n",
       "2006                               0.724703               0.331622\n",
       "2007                               0.816727               0.367930\n",
       "2008                               0.950928               0.511671\n",
       "2009                               0.937453               0.578478\n",
       "2010                               0.833188               0.506844\n",
       "2011                               0.721119               0.401416\n",
       "2012                               0.675785               0.317591\n",
       "2013                               0.590391               0.283737\n",
       "2014                               0.595361               0.305029\n",
       "2015                               0.558162               0.287783\n",
       "2016                               0.600395               0.313278\n",
       "2017                               0.640765               0.400418\n",
       "2018                               0.661648               0.451861\n",
       "2019                               0.742623               0.482331"
      ]
     },
     "execution_count": 36,
     "metadata": {},
     "output_type": "execute_result"
    }
   ],
   "source": [
    "to_plot_ratios"
   ]
  },
  {
   "cell_type": "markdown",
   "metadata": {},
   "source": [
    "## 1.2 Autocrrelation Analysis <a class=\"anchor\" id=\"step1_2\"></a>"
   ]
  },
  {
   "cell_type": "markdown",
   "metadata": {},
   "source": [
    "**Notes:**\n",
    "- Analysis is based on percentage change on each year's counts\n",
    "- Autocorrelation has 0 to 10 lags\n"
   ]
  },
  {
   "cell_type": "markdown",
   "metadata": {},
   "source": [
    "### complaints`, `permits`, `violations_ecb`, and `applications`  (year_month)"
   ]
  },
  {
   "cell_type": "code",
   "execution_count": 37,
   "metadata": {},
   "outputs": [],
   "source": [
    "def get_autocorr_dataframe(dataframe,lag_range,columns):\n",
    "    autocorr_data =[]\n",
    "    for j in columns:\n",
    "        i_l = []\n",
    "        for i in lag_range:\n",
    "            autocorr = dataframe[j].autocorr(lag=i)\n",
    "            i_l.append(autocorr)\n",
    "        autocorr_data.append(i_l)\n",
    "        \n",
    "    autocorr_df = pd.DataFrame(data=autocorr_data,).T\n",
    "    autocorr_df.columns = columns\n",
    "    autocorr_df.index = lag_range\n",
    "    return autocorr_df\n",
    "    "
   ]
  },
  {
   "cell_type": "code",
   "execution_count": 38,
   "metadata": {},
   "outputs": [],
   "source": [
    "columns = [ 'applications', 'permits', 'complaints', 'violations','permits_now']"
   ]
  },
  {
   "cell_type": "code",
   "execution_count": 39,
   "metadata": {},
   "outputs": [],
   "source": [
    "pct_change_year_month = applications_year_month.join(\n",
    "                                                   permits_year_month\n",
    "                                              ).join(\n",
    "                                                   complaints_year_month\n",
    "                                              ).join(\n",
    "                                                   violations_ecb_year_month\n",
    "                                              ).join(\n",
    "                                                   permits_now_year_month)"
   ]
  },
  {
   "cell_type": "code",
   "execution_count": 40,
   "metadata": {},
   "outputs": [],
   "source": [
    "pct_change_year_month.columns = columns"
   ]
  },
  {
   "cell_type": "code",
   "execution_count": 41,
   "metadata": {},
   "outputs": [],
   "source": [
    "pct_change_year_month['permits_now']=pct_change_year_month.permits_now.fillna(0)"
   ]
  },
  {
   "cell_type": "code",
   "execution_count": 42,
   "metadata": {},
   "outputs": [],
   "source": [
    "pct_change_year_month['permits_total'] = pct_change_year_month.permits + pct_change_year_month.permits_now"
   ]
  },
  {
   "cell_type": "code",
   "execution_count": 43,
   "metadata": {},
   "outputs": [],
   "source": [
    "pct_change_year_month = pct_change_year_month.pct_change()"
   ]
  },
  {
   "cell_type": "code",
   "execution_count": 44,
   "metadata": {},
   "outputs": [],
   "source": [
    "lags = list(range(1, 31))"
   ]
  },
  {
   "cell_type": "code",
   "execution_count": 45,
   "metadata": {},
   "outputs": [],
   "source": [
    "pct_change_year_month.drop(columns=['permits','permits_now'],inplace = True)"
   ]
  },
  {
   "cell_type": "code",
   "execution_count": 46,
   "metadata": {},
   "outputs": [
    {
     "data": {
      "text/plain": [
       "Index(['applications', 'complaints', 'violations', 'permits_total'], dtype='object')"
      ]
     },
     "execution_count": 46,
     "metadata": {},
     "output_type": "execute_result"
    }
   ],
   "source": [
    "pct_change_year_month.columns"
   ]
  },
  {
   "cell_type": "code",
   "execution_count": 47,
   "metadata": {},
   "outputs": [],
   "source": [
    "autocorr_df_year_month = get_autocorr_dataframe(\n",
    "                                        dataframe=pct_change_year_month,\n",
    "                                        lag_range=lags,\n",
    "                                        columns=['applications', 'complaints', 'violations', 'permits_total']\n",
    "                                    )"
   ]
  },
  {
   "cell_type": "code",
   "execution_count": 48,
   "metadata": {},
   "outputs": [],
   "source": [
    "autocorr_df_year_month.index.name = \"lags\""
   ]
  },
  {
   "cell_type": "code",
   "execution_count": 49,
   "metadata": {},
   "outputs": [
    {
     "data": {
      "image/png": "[encoded data removed]",
      "text/plain": [
       "<Figure size 1200x750 with 3 Axes>"
      ]
     },
     "metadata": {
      "needs_background": "light"
     },
     "output_type": "display_data"
    }
   ],
   "source": [
    "fig, axs = plt.subplots(3, 1)\n",
    "\n",
    "autocorr_df_year_month['permits_total'].plot.bar(ax=axs[0], width=0.5, color=nt_blue, rot=0)\n",
    "axs[0].set_title('Permits')\n",
    "\n",
    "autocorr_df_year_month['complaints'].plot.bar(ax=axs[1], width=0.5, color=nt_blue, rot=0)\n",
    "axs[1].set_title('Complaints', pad=-1)\n",
    "\n",
    "autocorr_df_year_month['violations'].plot.bar(ax=axs[2], width=0.5, color=nt_blue, rot=0)\n",
    "axs[2].set_title('Violations', pad=1)\n",
    "\n",
    "# fig.text(.515, .0525, 'Lags', ha='center')\n",
    "# fig.text(.065, .5, 'Autocorrelation', va='center', rotation='vertical')\n",
    "\n",
    "# Hide x labels and tick labels for top plots and y ticks for right plots.\n",
    "for i, ax in enumerate(axs.flat):\n",
    "    if i < 2:\n",
    "        ax.xaxis.set_major_locator(plt.NullLocator())\n",
    "    else:\n",
    "        xticks = ax.xaxis.get_major_ticks()\n",
    "        \n",
    "        to_keep = [1, 3, 6, 9, 12, 15, 18, 21, 24, 27, 30]\n",
    "        for j, tick in enumerate(xticks, 1):\n",
    "            if j not in to_keep:\n",
    "                tick.label1.set_visible(False)\n",
    "    \n",
    "    ylim = ax.set_ylim([-1, 1])\n",
    "    ax.set_xlabel(None)\n",
    "\n",
    "    \n",
    "t= plt.figtext(0.5, .975, \"Autocorrelation in Monthly Percent Changes\",\n",
    "               fontsize='large', color='black', ha ='center')\n",
    "\n",
    "plt.subplots_adjust(hspace=.25)\n",
    "\n",
    "savefig(\"autocorrelations_all_yearly.png\", fig, bottom=.125)"
   ]
  },
  {
   "cell_type": "code",
   "execution_count": 50,
   "metadata": {},
   "outputs": [
    {
     "data": {
      "text/html": [
       "<div>\n",
       "<style scoped>\n",
       "    .dataframe tbody tr th:only-of-type {\n",
       "        vertical-align: middle;\n",
       "    }\n",
       "\n",
       "    .dataframe tbody tr th {\n",
       "        vertical-align: top;\n",
       "    }\n",
       "\n",
       "    .dataframe thead th {\n",
       "        text-align: right;\n",
       "    }\n",
       "</style>\n",
       "<table border=\"1\" class=\"dataframe\">\n",
       "  <thead>\n",
       "    <tr style=\"text-align: right;\">\n",
       "      <th></th>\n",
       "      <th>complaints</th>\n",
       "      <th>violations</th>\n",
       "      <th>permits_total</th>\n",
       "    </tr>\n",
       "    <tr>\n",
       "      <th>lags</th>\n",
       "      <th></th>\n",
       "      <th></th>\n",
       "      <th></th>\n",
       "    </tr>\n",
       "  </thead>\n",
       "  <tbody>\n",
       "    <tr>\n",
       "      <th>1</th>\n",
       "      <td>-0.328890</td>\n",
       "      <td>-0.291068</td>\n",
       "      <td>-0.382373</td>\n",
       "    </tr>\n",
       "    <tr>\n",
       "      <th>2</th>\n",
       "      <td>0.192306</td>\n",
       "      <td>0.025308</td>\n",
       "      <td>-0.008993</td>\n",
       "    </tr>\n",
       "    <tr>\n",
       "      <th>3</th>\n",
       "      <td>0.039626</td>\n",
       "      <td>0.068256</td>\n",
       "      <td>0.146137</td>\n",
       "    </tr>\n",
       "    <tr>\n",
       "      <th>4</th>\n",
       "      <td>-0.244665</td>\n",
       "      <td>-0.107328</td>\n",
       "      <td>-0.259690</td>\n",
       "    </tr>\n",
       "    <tr>\n",
       "      <th>5</th>\n",
       "      <td>0.080146</td>\n",
       "      <td>0.099334</td>\n",
       "      <td>0.148509</td>\n",
       "    </tr>\n",
       "    <tr>\n",
       "      <th>6</th>\n",
       "      <td>-0.225224</td>\n",
       "      <td>-0.139810</td>\n",
       "      <td>-0.182140</td>\n",
       "    </tr>\n",
       "    <tr>\n",
       "      <th>7</th>\n",
       "      <td>-0.070911</td>\n",
       "      <td>0.056295</td>\n",
       "      <td>0.089662</td>\n",
       "    </tr>\n",
       "    <tr>\n",
       "      <th>8</th>\n",
       "      <td>-0.075883</td>\n",
       "      <td>-0.116743</td>\n",
       "      <td>-0.176381</td>\n",
       "    </tr>\n",
       "    <tr>\n",
       "      <th>9</th>\n",
       "      <td>-0.034335</td>\n",
       "      <td>0.122574</td>\n",
       "      <td>0.147122</td>\n",
       "    </tr>\n",
       "    <tr>\n",
       "      <th>10</th>\n",
       "      <td>-0.006957</td>\n",
       "      <td>-0.069506</td>\n",
       "      <td>-0.159407</td>\n",
       "    </tr>\n",
       "    <tr>\n",
       "      <th>11</th>\n",
       "      <td>-0.026291</td>\n",
       "      <td>-0.085073</td>\n",
       "      <td>-0.143229</td>\n",
       "    </tr>\n",
       "    <tr>\n",
       "      <th>12</th>\n",
       "      <td>0.449963</td>\n",
       "      <td>0.236153</td>\n",
       "      <td>0.707353</td>\n",
       "    </tr>\n",
       "    <tr>\n",
       "      <th>13</th>\n",
       "      <td>-0.235264</td>\n",
       "      <td>-0.130263</td>\n",
       "      <td>-0.362506</td>\n",
       "    </tr>\n",
       "    <tr>\n",
       "      <th>14</th>\n",
       "      <td>0.336698</td>\n",
       "      <td>0.134334</td>\n",
       "      <td>0.162864</td>\n",
       "    </tr>\n",
       "    <tr>\n",
       "      <th>15</th>\n",
       "      <td>-0.056239</td>\n",
       "      <td>-0.007688</td>\n",
       "      <td>0.026297</td>\n",
       "    </tr>\n",
       "    <tr>\n",
       "      <th>16</th>\n",
       "      <td>-0.130894</td>\n",
       "      <td>-0.096528</td>\n",
       "      <td>-0.247162</td>\n",
       "    </tr>\n",
       "    <tr>\n",
       "      <th>17</th>\n",
       "      <td>0.078137</td>\n",
       "      <td>0.010223</td>\n",
       "      <td>0.242613</td>\n",
       "    </tr>\n",
       "    <tr>\n",
       "      <th>18</th>\n",
       "      <td>-0.339339</td>\n",
       "      <td>-0.064154</td>\n",
       "      <td>-0.336469</td>\n",
       "    </tr>\n",
       "    <tr>\n",
       "      <th>19</th>\n",
       "      <td>-0.011767</td>\n",
       "      <td>0.108028</td>\n",
       "      <td>0.134917</td>\n",
       "    </tr>\n",
       "    <tr>\n",
       "      <th>20</th>\n",
       "      <td>-0.054585</td>\n",
       "      <td>-0.180632</td>\n",
       "      <td>-0.121456</td>\n",
       "    </tr>\n",
       "    <tr>\n",
       "      <th>21</th>\n",
       "      <td>-0.116279</td>\n",
       "      <td>0.093528</td>\n",
       "      <td>0.049985</td>\n",
       "    </tr>\n",
       "    <tr>\n",
       "      <th>22</th>\n",
       "      <td>0.184815</td>\n",
       "      <td>-0.054410</td>\n",
       "      <td>-0.115574</td>\n",
       "    </tr>\n",
       "    <tr>\n",
       "      <th>23</th>\n",
       "      <td>-0.113334</td>\n",
       "      <td>-0.011686</td>\n",
       "      <td>-0.040642</td>\n",
       "    </tr>\n",
       "    <tr>\n",
       "      <th>24</th>\n",
       "      <td>0.403487</td>\n",
       "      <td>0.236234</td>\n",
       "      <td>0.499464</td>\n",
       "    </tr>\n",
       "    <tr>\n",
       "      <th>25</th>\n",
       "      <td>-0.105215</td>\n",
       "      <td>-0.137769</td>\n",
       "      <td>-0.177592</td>\n",
       "    </tr>\n",
       "    <tr>\n",
       "      <th>26</th>\n",
       "      <td>0.337581</td>\n",
       "      <td>0.008371</td>\n",
       "      <td>0.118807</td>\n",
       "    </tr>\n",
       "    <tr>\n",
       "      <th>27</th>\n",
       "      <td>-0.130789</td>\n",
       "      <td>-0.012436</td>\n",
       "      <td>-0.060310</td>\n",
       "    </tr>\n",
       "    <tr>\n",
       "      <th>28</th>\n",
       "      <td>-0.116708</td>\n",
       "      <td>0.004337</td>\n",
       "      <td>-0.106392</td>\n",
       "    </tr>\n",
       "    <tr>\n",
       "      <th>29</th>\n",
       "      <td>0.098104</td>\n",
       "      <td>0.079013</td>\n",
       "      <td>0.187828</td>\n",
       "    </tr>\n",
       "    <tr>\n",
       "      <th>30</th>\n",
       "      <td>-0.357268</td>\n",
       "      <td>-0.146401</td>\n",
       "      <td>-0.370341</td>\n",
       "    </tr>\n",
       "  </tbody>\n",
       "</table>\n",
       "</div>"
      ],
      "text/plain": [
       "      complaints  violations  permits_total\n",
       "lags                                       \n",
       "1      -0.328890   -0.291068      -0.382373\n",
       "2       0.192306    0.025308      -0.008993\n",
       "3       0.039626    0.068256       0.146137\n",
       "4      -0.244665   -0.107328      -0.259690\n",
       "5       0.080146    0.099334       0.148509\n",
       "6      -0.225224   -0.139810      -0.182140\n",
       "7      -0.070911    0.056295       0.089662\n",
       "8      -0.075883   -0.116743      -0.176381\n",
       "9      -0.034335    0.122574       0.147122\n",
       "10     -0.006957   -0.069506      -0.159407\n",
       "11     -0.026291   -0.085073      -0.143229\n",
       "12      0.449963    0.236153       0.707353\n",
       "13     -0.235264   -0.130263      -0.362506\n",
       "14      0.336698    0.134334       0.162864\n",
       "15     -0.056239   -0.007688       0.026297\n",
       "16     -0.130894   -0.096528      -0.247162\n",
       "17      0.078137    0.010223       0.242613\n",
       "18     -0.339339   -0.064154      -0.336469\n",
       "19     -0.011767    0.108028       0.134917\n",
       "20     -0.054585   -0.180632      -0.121456\n",
       "21     -0.116279    0.093528       0.049985\n",
       "22      0.184815   -0.054410      -0.115574\n",
       "23     -0.113334   -0.011686      -0.040642\n",
       "24      0.403487    0.236234       0.499464\n",
       "25     -0.105215   -0.137769      -0.177592\n",
       "26      0.337581    0.008371       0.118807\n",
       "27     -0.130789   -0.012436      -0.060310\n",
       "28     -0.116708    0.004337      -0.106392\n",
       "29      0.098104    0.079013       0.187828\n",
       "30     -0.357268   -0.146401      -0.370341"
      ]
     },
     "execution_count": 50,
     "metadata": {},
     "output_type": "execute_result"
    }
   ],
   "source": [
    "autocorr_df_year_month[['complaints','violations','permits_total']]"
   ]
  },
  {
   "cell_type": "code",
   "execution_count": null,
   "metadata": {},
   "outputs": [],
   "source": []
  }
 ],
 "metadata": {
  "kernelspec": {
   "display_name": "Python 3",
   "language": "python",
   "name": "python3"
  },
  "language_info": {
   "codemirror_mode": {
    "name": "ipython",
    "version": 3
   },
   "file_extension": ".py",
   "mimetype": "text/x-python",
   "name": "python",
   "nbconvert_exporter": "python",
   "pygments_lexer": "ipython3",
   "version": "3.7.5"
  }
 },
 "nbformat": 4,
 "nbformat_minor": 2
}
