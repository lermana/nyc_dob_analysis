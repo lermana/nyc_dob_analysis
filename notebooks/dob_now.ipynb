{
 "cells": [
  {
   "cell_type": "code",
   "execution_count": 1,
   "metadata": {},
   "outputs": [],
   "source": [
    "import os\n",
    "import numpy as np\n",
    "import pandas as pd\n",
    "\n",
    "\n",
    "#get data\n",
    "# from pydob.exploratory import get_permits_type_df\n",
    "from pydob.exploratory import (\n",
    "                    get_year_counts\n",
    "            )\n",
    "from pydob.database import get_query_as_df\n",
    "# plotting\n",
    "import matplotlib.pyplot as plt\n",
    "from pydob.settings import nt_style, nt_blue, nt_black\n",
    "\n",
    "from pydob.database import get_permits_now"
   ]
  },
  {
   "cell_type": "code",
   "execution_count": 2,
   "metadata": {},
   "outputs": [],
   "source": [
    "%matplotlib inline\n",
    "plt.style.use(nt_style)"
   ]
  },
  {
   "cell_type": "markdown",
   "metadata": {},
   "source": [
    "# 7. DOB NOW\n",
    "- we need to rope in the DoB NOW stuff for applications and permits. let's get applications and permits numbers that are the sum of the NOW and non-NOW tables. in particular, it would be great to get our permit issuance number vs rate table updated with these numbers\n",
    "\n",
    "\n",
    "\n",
    "- [DOB NOW: Build – Job Application Filings](https://data.cityofnewyork.us/Housing-Development/DOB-NOW-Build-Job-Application-Filings/w9ak-ipjd): List of most job filings filed in DOB NOW. This dataset does not include certain types of job.\n",
    "    - No dates data\n",
    "\n",
    "- [DOB NOW: Electrical Permit Applications](https://data.cityofnewyork.us/City-Government/DOB-NOW-Electrical-Permit-Applications/dm9a-ab7w): This dataset is part of the DOB NOW Electrical Permit Data Collection\n",
    "\n",
    "- [DOB NOW: Build – Approved Permits](https://data.cityofnewyork.us/Housing-Development/DOB-NOW-Build-Approved-Permits/rbx6-tga4): List of all approved permits in DOB NOW\n",
    "    - dates data included:\n",
    "        - `Approved Date`: This is the date that the entire job was approved by the Plan Examiner. The applicant can now pull a permit.\n",
    "        \n",
    "        - `Issued Date`: This is the date that the permit was issued.\n",
    "        - `Expired Date`: This is the date that the permit expires.\n"
   ]
  },
  {
   "cell_type": "code",
   "execution_count": 3,
   "metadata": {},
   "outputs": [],
   "source": [
    "# dob_now_applied = pd.read_csv(\"/Users/francescao/Downloads/DOB_NOW__Build___Job_Application_Filings.csv\")"
   ]
  },
  {
   "cell_type": "code",
   "execution_count": 4,
   "metadata": {},
   "outputs": [],
   "source": [
    "permits_now_year_counts = get_year_counts(index_col='job_filing_number',\n",
    "                                          year_col='issued_date_year', \n",
    "                                          dataset_name='permits_now')\n",
    "\n",
    "\n",
    "permits_now_year_counts.columns = ['approved_counts']\n"
   ]
  },
  {
   "cell_type": "code",
   "execution_count": 5,
   "metadata": {},
   "outputs": [
    {
     "data": {
      "text/html": [
       "<div>\n",
       "<style scoped>\n",
       "    .dataframe tbody tr th:only-of-type {\n",
       "        vertical-align: middle;\n",
       "    }\n",
       "\n",
       "    .dataframe tbody tr th {\n",
       "        vertical-align: top;\n",
       "    }\n",
       "\n",
       "    .dataframe thead th {\n",
       "        text-align: right;\n",
       "    }\n",
       "</style>\n",
       "<table border=\"1\" class=\"dataframe\">\n",
       "  <thead>\n",
       "    <tr style=\"text-align: right;\">\n",
       "      <th></th>\n",
       "      <th>approved_counts</th>\n",
       "    </tr>\n",
       "    <tr>\n",
       "      <th>issued_date_year</th>\n",
       "      <th></th>\n",
       "    </tr>\n",
       "  </thead>\n",
       "  <tbody>\n",
       "    <tr>\n",
       "      <td>2016</td>\n",
       "      <td>8</td>\n",
       "    </tr>\n",
       "    <tr>\n",
       "      <td>2017</td>\n",
       "      <td>2213</td>\n",
       "    </tr>\n",
       "    <tr>\n",
       "      <td>2018</td>\n",
       "      <td>26440</td>\n",
       "    </tr>\n",
       "    <tr>\n",
       "      <td>2019</td>\n",
       "      <td>40187</td>\n",
       "    </tr>\n",
       "    <tr>\n",
       "      <td>2020</td>\n",
       "      <td>8081</td>\n",
       "    </tr>\n",
       "  </tbody>\n",
       "</table>\n",
       "</div>"
      ],
      "text/plain": [
       "                  approved_counts\n",
       "issued_date_year                 \n",
       "2016                            8\n",
       "2017                         2213\n",
       "2018                        26440\n",
       "2019                        40187\n",
       "2020                         8081"
      ]
     },
     "execution_count": 5,
     "metadata": {},
     "output_type": "execute_result"
    }
   ],
   "source": [
    "permits_now_year_counts"
   ]
  },
  {
   "cell_type": "markdown",
   "metadata": {},
   "source": [
    "**Note:** \n",
    "- We find that in DOB NOW approved permits, the approved date started from 2016 June. There were 8 cases approved in 2016, 2213 approved in 2017 and with a jump increase in 2018 and 2019.\n",
    "\n",
    "- This means that more and more people starts to use DOB NOW as an approach to apply for permits. \n"
   ]
  },
  {
   "cell_type": "code",
   "execution_count": 24,
   "metadata": {},
   "outputs": [
    {
     "data": {
      "text/plain": [
       "GC    59223\n",
       "S      7481\n",
       "P      6074\n",
       "F      2021\n",
       "O       211\n",
       "RA       59\n",
       "PE       52\n",
       "PR       31\n",
       "Name: permittees_license_type, dtype: int64"
      ]
     },
     "execution_count": 24,
     "metadata": {},
     "output_type": "execute_result"
    }
   ],
   "source": [
    "permits_now.permittees_license_type.value_counts()"
   ]
  },
  {
   "cell_type": "code",
   "execution_count": 25,
   "metadata": {},
   "outputs": [
    {
     "data": {
      "text/plain": [
       "Sidewalk Shed         23747\n",
       "Construction Fence    16350\n",
       "Supported Scaffold    12168\n",
       "Sign                   7484\n",
       "Plumbing               5845\n",
       "Mechanical Systems     3025\n",
       "Antenna                2064\n",
       "Sprinklers             1815\n",
       "Curb Cut               1164\n",
       "Structural              844\n",
       "Boiler Equipment        439\n",
       "Standpipe               207\n",
       "Name: work_type, dtype: int64"
      ]
     },
     "execution_count": 25,
     "metadata": {},
     "output_type": "execute_result"
    }
   ],
   "source": [
    "permits_now.work_type.value_counts()"
   ]
  },
  {
   "cell_type": "code",
   "execution_count": null,
   "metadata": {},
   "outputs": [],
   "source": []
  }
 ],
 "metadata": {
  "kernelspec": {
   "display_name": "Python 3",
   "language": "python",
   "name": "python3"
  },
  "language_info": {
   "codemirror_mode": {
    "name": "ipython",
    "version": 3
   },
   "file_extension": ".py",
   "mimetype": "text/x-python",
   "name": "python",
   "nbconvert_exporter": "python",
   "pygments_lexer": "ipython3",
   "version": "3.7.5"
  }
 },
 "nbformat": 4,
 "nbformat_minor": 2
}
