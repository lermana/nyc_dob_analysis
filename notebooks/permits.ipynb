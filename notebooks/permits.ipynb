{
 "cells": [
  {
   "cell_type": "code",
   "execution_count": 4,
   "metadata": {},
   "outputs": [],
   "source": [
    "import os\n",
    "import numpy as np\n",
    "import pandas as pd\n",
    "\n",
    "# getting data\n",
    "from pydob.exploratory import get_dataset_type_df, convert_float_indices_to_int, savefig,get_dataset_type_df\n",
    "\n",
    "# plotting \n",
    "import matplotlib.pyplot as plt\n",
    "from pydob.settings import nt_style, nt_blue, nt_black"
   ]
  },
  {
   "cell_type": "code",
   "execution_count": 5,
   "metadata": {},
   "outputs": [],
   "source": [
    "%matplotlib inline\n",
    "plt.style.use(nt_style)"
   ]
  },
  {
   "cell_type": "markdown",
   "metadata": {},
   "source": [
    "# DoB NOW "
   ]
  },
  {
   "cell_type": "code",
   "execution_count": 6,
   "metadata": {},
   "outputs": [],
   "source": [
    "permits_now_types = get_dataset_type_df(type_col = 'work_type',\n",
    "                                        index_col = 'job_filing_number',\n",
    "                                        year_col = 'issued_date_year',\n",
    "                                        dataset_name = 'permits_now')"
   ]
  },
  {
   "cell_type": "code",
   "execution_count": 7,
   "metadata": {},
   "outputs": [
    {
     "data": {
      "text/plain": [
       "Index(['Plumbing', 'Sprinklers', 'Antenna', 'Construction Fence', 'Curb Cut',\n",
       "       'Sidewalk Shed', 'Sign', 'Supported Scaffold', 'Standpipe',\n",
       "       'Boiler Equipment', 'Mechanical Systems', 'Structural'],\n",
       "      dtype='object', name='work_type')"
      ]
     },
     "execution_count": 7,
     "metadata": {},
     "output_type": "execute_result"
    }
   ],
   "source": [
    "permits_now_types.index.get_level_values(1).unique()"
   ]
  },
  {
   "cell_type": "markdown",
   "metadata": {},
   "source": [
    "# 1.0 Permits Categorical Analysis"
   ]
  },
  {
   "cell_type": "code",
   "execution_count": 8,
   "metadata": {},
   "outputs": [],
   "source": [
    "permits_type_to_plot = get_dataset_type_df(type_col='permit_type',\n",
    "                                           index_col='permit_si_no',\n",
    "                                           year_col='issuance_date_year',\n",
    "                                           dataset_name='permits')"
   ]
  },
  {
   "cell_type": "code",
   "execution_count": 9,
   "metadata": {},
   "outputs": [],
   "source": [
    "permits_type_to_plot = permits_type_to_plot.loc[2000:2017] / 1000"
   ]
  },
  {
   "cell_type": "code",
   "execution_count": 10,
   "metadata": {},
   "outputs": [],
   "source": [
    "permits_type_to_plot = convert_float_indices_to_int(df=permits_type_to_plot)"
   ]
  },
  {
   "cell_type": "code",
   "execution_count": 11,
   "metadata": {},
   "outputs": [],
   "source": [
    "top_3_types = permits_type_to_plot.groupby(\n",
    "                                        level='issuance_date_year'\n",
    "                                 ).apply(\n",
    "                                        lambda x: x.nlargest(3, columns=['permit_si_no'])\n",
    "                                 ).reset_index(level = 0,drop = True)\n",
    "\n",
    "top_3_types = top_3_types.unstack()\n",
    "top_3_types.columns = top_3_types.columns.droplevel()"
   ]
  },
  {
   "cell_type": "code",
   "execution_count": 12,
   "metadata": {},
   "outputs": [
    {
     "data": {
      "text/plain": [
       "Index(['AL', 'DM', 'EQ', 'EW', 'FO', 'NB', 'PL', 'SG'], dtype='object', name='permit_type')"
      ]
     },
     "execution_count": 12,
     "metadata": {},
     "output_type": "execute_result"
    }
   ],
   "source": [
    "permits_type_to_plot.index.get_level_values(1).unique()"
   ]
  },
  {
   "cell_type": "markdown",
   "metadata": {},
   "source": [
    "**Note**\n",
    "- Data types in permits_type_to_plot \n",
    "Permit Type\t\n",
    "\n",
    "    - AL\tAlteration\n",
    "    - DM\tDemolition\n",
    "    - EQ\tConstruction Equipment\n",
    "    - EW\tEquipment Work\n",
    "    - FO\tFoundation\n",
    "    - NB\tNew Building\n",
    "    - PL\tPlumbing\n",
    "    - SG\tSign\n",
    "    \n",
    "    \n",
    "    \n",
    "- permits DoB NOW: \n",
    "\n",
    "    - Plumbing - PL\n",
    "    - Sprinklers\n",
    "    - Antenna\n",
    "    - Construction Fence\n",
    "    - Curb Cut\n",
    "    - Sidewalk Shed\n",
    "    - Sign - SG\n",
    "    - Supported Scaffold\n",
    "    - Standpipe\n",
    "    - Boiler Equipment\n",
    "    - Mechanical Systems\n",
    "    - Structural"
   ]
  },
  {
   "cell_type": "code",
   "execution_count": 13,
   "metadata": {},
   "outputs": [],
   "source": [
    "permits_type_to_plot = permits_type_to_plot.unstack(1)"
   ]
  },
  {
   "cell_type": "code",
   "execution_count": 14,
   "metadata": {},
   "outputs": [],
   "source": [
    "permits_type_to_plot.columns = permits_type_to_plot.columns.droplevel(0)"
   ]
  },
  {
   "cell_type": "code",
   "execution_count": 15,
   "metadata": {},
   "outputs": [],
   "source": [
    "top_3_types = permits_type_to_plot[top_3_types.columns]"
   ]
  },
  {
   "cell_type": "code",
   "execution_count": 16,
   "metadata": {},
   "outputs": [],
   "source": [
    "permits_cols = top_3_types.columns\n",
    "permits_label = ['Construction Equipment','Equipment Work','Plumbing']"
   ]
  },
  {
   "cell_type": "code",
   "execution_count": 17,
   "metadata": {},
   "outputs": [],
   "source": [
    "top_3_types.columns = permits_label"
   ]
  },
  {
   "cell_type": "code",
   "execution_count": 18,
   "metadata": {},
   "outputs": [
    {
     "data": {
      "text/html": [
       "<div>\n",
       "<style scoped>\n",
       "    .dataframe tbody tr th:only-of-type {\n",
       "        vertical-align: middle;\n",
       "    }\n",
       "\n",
       "    .dataframe tbody tr th {\n",
       "        vertical-align: top;\n",
       "    }\n",
       "\n",
       "    .dataframe thead th {\n",
       "        text-align: right;\n",
       "    }\n",
       "</style>\n",
       "<table border=\"1\" class=\"dataframe\">\n",
       "  <thead>\n",
       "    <tr style=\"text-align: right;\">\n",
       "      <th></th>\n",
       "      <th>Construction Equipment</th>\n",
       "      <th>Equipment Work</th>\n",
       "      <th>Plumbing</th>\n",
       "    </tr>\n",
       "    <tr>\n",
       "      <th>issuance_date_year</th>\n",
       "      <th></th>\n",
       "      <th></th>\n",
       "      <th></th>\n",
       "    </tr>\n",
       "  </thead>\n",
       "  <tbody>\n",
       "    <tr>\n",
       "      <th>2000</th>\n",
       "      <td>13.569</td>\n",
       "      <td>44.797</td>\n",
       "      <td>20.807</td>\n",
       "    </tr>\n",
       "    <tr>\n",
       "      <th>2001</th>\n",
       "      <td>14.418</td>\n",
       "      <td>44.733</td>\n",
       "      <td>21.625</td>\n",
       "    </tr>\n",
       "    <tr>\n",
       "      <th>2002</th>\n",
       "      <td>16.969</td>\n",
       "      <td>44.827</td>\n",
       "      <td>22.798</td>\n",
       "    </tr>\n",
       "    <tr>\n",
       "      <th>2003</th>\n",
       "      <td>19.812</td>\n",
       "      <td>45.836</td>\n",
       "      <td>25.495</td>\n",
       "    </tr>\n",
       "    <tr>\n",
       "      <th>2004</th>\n",
       "      <td>23.701</td>\n",
       "      <td>50.635</td>\n",
       "      <td>27.585</td>\n",
       "    </tr>\n",
       "    <tr>\n",
       "      <th>2005</th>\n",
       "      <td>28.524</td>\n",
       "      <td>53.444</td>\n",
       "      <td>29.536</td>\n",
       "    </tr>\n",
       "    <tr>\n",
       "      <th>2006</th>\n",
       "      <td>32.166</td>\n",
       "      <td>53.891</td>\n",
       "      <td>30.140</td>\n",
       "    </tr>\n",
       "    <tr>\n",
       "      <th>2007</th>\n",
       "      <td>34.315</td>\n",
       "      <td>58.221</td>\n",
       "      <td>29.496</td>\n",
       "    </tr>\n",
       "    <tr>\n",
       "      <th>2008</th>\n",
       "      <td>29.978</td>\n",
       "      <td>60.043</td>\n",
       "      <td>30.445</td>\n",
       "    </tr>\n",
       "    <tr>\n",
       "      <th>2009</th>\n",
       "      <td>24.860</td>\n",
       "      <td>57.115</td>\n",
       "      <td>29.677</td>\n",
       "    </tr>\n",
       "    <tr>\n",
       "      <th>2010</th>\n",
       "      <td>24.361</td>\n",
       "      <td>59.017</td>\n",
       "      <td>28.937</td>\n",
       "    </tr>\n",
       "    <tr>\n",
       "      <th>2011</th>\n",
       "      <td>25.051</td>\n",
       "      <td>66.120</td>\n",
       "      <td>30.004</td>\n",
       "    </tr>\n",
       "    <tr>\n",
       "      <th>2012</th>\n",
       "      <td>26.380</td>\n",
       "      <td>68.324</td>\n",
       "      <td>29.076</td>\n",
       "    </tr>\n",
       "    <tr>\n",
       "      <th>2013</th>\n",
       "      <td>28.199</td>\n",
       "      <td>75.961</td>\n",
       "      <td>31.998</td>\n",
       "    </tr>\n",
       "    <tr>\n",
       "      <th>2014</th>\n",
       "      <td>28.746</td>\n",
       "      <td>80.712</td>\n",
       "      <td>33.718</td>\n",
       "    </tr>\n",
       "    <tr>\n",
       "      <th>2015</th>\n",
       "      <td>29.400</td>\n",
       "      <td>85.193</td>\n",
       "      <td>35.743</td>\n",
       "    </tr>\n",
       "    <tr>\n",
       "      <th>2016</th>\n",
       "      <td>30.295</td>\n",
       "      <td>91.030</td>\n",
       "      <td>36.585</td>\n",
       "    </tr>\n",
       "    <tr>\n",
       "      <th>2017</th>\n",
       "      <td>29.511</td>\n",
       "      <td>92.948</td>\n",
       "      <td>38.220</td>\n",
       "    </tr>\n",
       "  </tbody>\n",
       "</table>\n",
       "</div>"
      ],
      "text/plain": [
       "                    Construction Equipment  Equipment Work  Plumbing\n",
       "issuance_date_year                                                  \n",
       "2000                                13.569          44.797    20.807\n",
       "2001                                14.418          44.733    21.625\n",
       "2002                                16.969          44.827    22.798\n",
       "2003                                19.812          45.836    25.495\n",
       "2004                                23.701          50.635    27.585\n",
       "2005                                28.524          53.444    29.536\n",
       "2006                                32.166          53.891    30.140\n",
       "2007                                34.315          58.221    29.496\n",
       "2008                                29.978          60.043    30.445\n",
       "2009                                24.860          57.115    29.677\n",
       "2010                                24.361          59.017    28.937\n",
       "2011                                25.051          66.120    30.004\n",
       "2012                                26.380          68.324    29.076\n",
       "2013                                28.199          75.961    31.998\n",
       "2014                                28.746          80.712    33.718\n",
       "2015                                29.400          85.193    35.743\n",
       "2016                                30.295          91.030    36.585\n",
       "2017                                29.511          92.948    38.220"
      ]
     },
     "execution_count": 18,
     "metadata": {},
     "output_type": "execute_result"
    }
   ],
   "source": [
    "top_3_types"
   ]
  },
  {
   "cell_type": "code",
   "execution_count": 19,
   "metadata": {
    "scrolled": false
   },
   "outputs": [
    {
     "data": {
      "text/plain": [
       "Construction Equipment    float64\n",
       "Equipment Work            float64\n",
       "Plumbing                  float64\n",
       "dtype: object"
      ]
     },
     "execution_count": 19,
     "metadata": {},
     "output_type": "execute_result"
    }
   ],
   "source": [
    "top_3_types.dtypes"
   ]
  },
  {
   "cell_type": "code",
   "execution_count": 20,
   "metadata": {
    "scrolled": false
   },
   "outputs": [
    {
     "data": {
      "image/png": "[encoded data removed]",
      "text/plain": [
       "<Figure size 1200x750 with 1 Axes>"
      ]
     },
     "metadata": {
      "needs_background": "light"
     },
     "output_type": "display_data"
    }
   ],
   "source": [
    "x1 = np.linspace(0,17,(2017-2000)+1)*4\n",
    "x2 = np.linspace(0,17,(2017-2000)+1)*4+1\n",
    "x3 = np.linspace(0,17,(2017-2000)+1)*4+2\n",
    "x4 = np.linspace(0,17,(2017-2000)+1)*4+3\n",
    "\n",
    "x = [x1,x2,x3,x4]\n",
    "\n",
    "# plotting\n",
    "fig, ax = plt.subplots()\n",
    "\n",
    "for i,c in enumerate(top_3_types.columns):\n",
    "    plt.bar(x= x[i],\n",
    "            height=top_3_types[c],\n",
    "            width = 0.8, \n",
    "            color=nt_blue,\n",
    "            edgecolor = nt_black,\n",
    "            label = c,\n",
    "            alpha = 1-0.25*i)\n",
    "# legend\n",
    "l = plt.legend(loc='center left', \n",
    "           bbox_to_anchor=(.075, -0.16),\n",
    "           fancybox=True,\n",
    "           shadow=False, \n",
    "           ncol=3)\n",
    "\n",
    "#label\n",
    "plt.xticks(ticks=x2, labels=top_3_types.index,rotation=30)\n",
    "lab = plt.ylabel(\"Number of Permits (k)\")\n",
    "lab = plt.xlabel(None)\n",
    "\n",
    "plt.title('Top 3 Permit Types Issued, Yearly')\n",
    "\n",
    "savefig(\"permit_types.png\", fig, bottom=.2)"
   ]
  },
  {
   "cell_type": "markdown",
   "metadata": {},
   "source": [
    "** Note:** \n",
    "- This chart does not reflects permit issued by DOB NOW. \n",
    "- The analysis on permit issued by DOB Now is at dob_now.ipynb \n",
    "- DOB NOW and DOB has different sets of types. If we want to agg DOB NOW to DOB permits, we might need to match the types by ourself. \n"
   ]
  },
  {
   "cell_type": "code",
   "execution_count": null,
   "metadata": {},
   "outputs": [],
   "source": []
  }
 ],
 "metadata": {
  "kernelspec": {
   "display_name": "Python 3",
   "language": "python",
   "name": "python3"
  },
  "language_info": {
   "codemirror_mode": {
    "name": "ipython",
    "version": 3
   },
   "file_extension": ".py",
   "mimetype": "text/x-python",
   "name": "python",
   "nbconvert_exporter": "python",
   "pygments_lexer": "ipython3",
   "version": "3.7.5"
  }
 },
 "nbformat": 4,
 "nbformat_minor": 2
}
